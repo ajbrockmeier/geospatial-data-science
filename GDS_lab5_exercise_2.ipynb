{
  "nbformat": 4,
  "nbformat_minor": 0,
  "metadata": {
    "colab": {
      "provenance": []
    },
    "kernelspec": {
      "name": "python3",
      "display_name": "Python 3"
    },
    "language_info": {
      "name": "python"
    }
  },
  "cells": [
    {
      "cell_type": "code",
      "execution_count": null,
      "metadata": {
        "id": "hl9JvsNIYUfl"
      },
      "outputs": [],
      "source": [
        "!pip install geopandas"
      ]
    },
    {
      "cell_type": "code",
      "source": [
        "import geopandas as gpd\n",
        "from matplotlib import pyplot as plt\n",
        "from shapely import Point, Polygon, union_all, STRtree\n",
        "from shapely.geometry import box\n"
      ],
      "metadata": {
        "id": "nUOrP7_eYao2"
      },
      "execution_count": null,
      "outputs": []
    },
    {
      "cell_type": "code",
      "source": [
        "# Data \n",
        "households = [Point(i, 1.1*i) for i in range(10)]\n",
        "households += [Point(i, 15-0.8*i) for i in range(10)]\n",
        "households += [Point(9+i, 15-0.8*9) for i in range(10)]\n",
        "households += [Point(9+i, 15-0.8*9) for i in range(10)]\n",
        "\n",
        "parks = [ box(5, 12, 10, 14) ,box(1, 2.1, 1.8, 3.5),  box(6, 8, 8, 8.5), box(15, 3, 18, 6) ]\n",
        "grocery =  [Point(18,2), Point(6,3),Point(0.5,14)]"
      ],
      "metadata": {
        "id": "sd-45ZApYnlT"
      },
      "execution_count": null,
      "outputs": []
    },
    {
      "cell_type": "code",
      "source": [],
      "metadata": {
        "id": "PcZ3c2TSYnuc"
      },
      "execution_count": null,
      "outputs": []
    }
  ]
}