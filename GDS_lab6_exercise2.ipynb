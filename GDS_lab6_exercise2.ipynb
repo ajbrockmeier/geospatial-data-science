{
  "nbformat": 4,
  "nbformat_minor": 0,
  "metadata": {
    "colab": {
      "provenance": []
    },
    "kernelspec": {
      "name": "python3",
      "display_name": "Python 3"
    },
    "language_info": {
      "name": "python"
    }
  },
  "cells": [
    {
      "cell_type": "code",
      "execution_count": 2,
      "metadata": {
        "id": "_bF8UY730nkR"
      },
      "outputs": [],
      "source": [
        "import numpy as np\n",
        "import matplotlib.pyplot as plt\n",
        "import pandas as pd\n",
        "from shapely.geometry import Point, LineString, LinearRing, Polygon, box\n",
        "from shapely import union_all\n",
        "rng = np.random.default_rng(seed=0)"
      ]
    },
    {
      "cell_type": "code",
      "source": [
        "!pip install geopandas\n",
        "!pip install pysal"
      ],
      "metadata": {
        "id": "zHu9MeQYCWOS",
        "colab": {
          "base_uri": "https://localhost:8080/"
        },
        "outputId": "2a6f3656-902e-4794-d953-bba18f4863ef"
      },
      "execution_count": 3,
      "outputs": [
        {
          "output_type": "stream",
          "name": "stdout",
          "text": [
            "Looking in indexes: https://pypi.org/simple, https://us-python.pkg.dev/colab-wheels/public/simple/\n",
            "Collecting geopandas\n",
            "  Downloading geopandas-0.12.2-py3-none-any.whl (1.1 MB)\n",
            "\u001b[2K     \u001b[90m━━━━━━━━━━━━━━━━━━━━━━━━━━━━━━━━━━━━━━━━\u001b[0m \u001b[32m1.1/1.1 MB\u001b[0m \u001b[31m4.2 MB/s\u001b[0m eta \u001b[36m0:00:00\u001b[0m\n",
            "\u001b[?25hRequirement already satisfied: shapely>=1.7 in /usr/local/lib/python3.9/dist-packages (from geopandas) (2.0.1)\n",
            "Requirement already satisfied: pandas>=1.0.0 in /usr/local/lib/python3.9/dist-packages (from geopandas) (1.4.4)\n",
            "Requirement already satisfied: packaging in /usr/local/lib/python3.9/dist-packages (from geopandas) (23.0)\n",
            "Collecting pyproj>=2.6.1.post1\n",
            "  Downloading pyproj-3.4.1-cp39-cp39-manylinux_2_17_x86_64.manylinux2014_x86_64.whl (7.7 MB)\n",
            "\u001b[2K     \u001b[90m━━━━━━━━━━━━━━━━━━━━━━━━━━━━━━━━━━━━━━━━\u001b[0m \u001b[32m7.7/7.7 MB\u001b[0m \u001b[31m15.4 MB/s\u001b[0m eta \u001b[36m0:00:00\u001b[0m\n",
            "\u001b[?25hCollecting fiona>=1.8\n",
            "  Downloading Fiona-1.9.2-cp39-cp39-manylinux_2_17_x86_64.manylinux2014_x86_64.whl (16.1 MB)\n",
            "\u001b[2K     \u001b[90m━━━━━━━━━━━━━━━━━━━━━━━━━━━━━━━━━━━━━━━━\u001b[0m \u001b[32m16.1/16.1 MB\u001b[0m \u001b[31m9.0 MB/s\u001b[0m eta \u001b[36m0:00:00\u001b[0m\n",
            "\u001b[?25hRequirement already satisfied: click~=8.0 in /usr/local/lib/python3.9/dist-packages (from fiona>=1.8->geopandas) (8.1.3)\n",
            "Collecting munch>=2.3.2\n",
            "  Downloading munch-2.5.0-py2.py3-none-any.whl (10 kB)\n",
            "Requirement already satisfied: certifi in /usr/local/lib/python3.9/dist-packages (from fiona>=1.8->geopandas) (2022.12.7)\n",
            "Requirement already satisfied: importlib-metadata in /usr/local/lib/python3.9/dist-packages (from fiona>=1.8->geopandas) (6.1.0)\n",
            "Collecting cligj>=0.5\n",
            "  Downloading cligj-0.7.2-py3-none-any.whl (7.1 kB)\n",
            "Collecting click-plugins>=1.0\n",
            "  Downloading click_plugins-1.1.1-py2.py3-none-any.whl (7.5 kB)\n",
            "Requirement already satisfied: attrs>=19.2.0 in /usr/local/lib/python3.9/dist-packages (from fiona>=1.8->geopandas) (22.2.0)\n",
            "Requirement already satisfied: pytz>=2020.1 in /usr/local/lib/python3.9/dist-packages (from pandas>=1.0.0->geopandas) (2022.7.1)\n",
            "Requirement already satisfied: python-dateutil>=2.8.1 in /usr/local/lib/python3.9/dist-packages (from pandas>=1.0.0->geopandas) (2.8.2)\n",
            "Requirement already satisfied: numpy>=1.18.5 in /usr/local/lib/python3.9/dist-packages (from pandas>=1.0.0->geopandas) (1.22.4)\n",
            "Requirement already satisfied: six in /usr/local/lib/python3.9/dist-packages (from munch>=2.3.2->fiona>=1.8->geopandas) (1.16.0)\n",
            "Requirement already satisfied: zipp>=0.5 in /usr/local/lib/python3.9/dist-packages (from importlib-metadata->fiona>=1.8->geopandas) (3.15.0)\n",
            "Installing collected packages: pyproj, munch, cligj, click-plugins, fiona, geopandas\n",
            "Successfully installed click-plugins-1.1.1 cligj-0.7.2 fiona-1.9.2 geopandas-0.12.2 munch-2.5.0 pyproj-3.4.1\n",
            "Looking in indexes: https://pypi.org/simple, https://us-python.pkg.dev/colab-wheels/public/simple/\n",
            "Collecting pysal\n",
            "  Downloading pysal-23.1-py3-none-any.whl (17 kB)\n",
            "Collecting spglm>=1.0.8\n",
            "  Downloading spglm-1.0.8.tar.gz (37 kB)\n",
            "  Preparing metadata (setup.py) ... \u001b[?25l\u001b[?25hdone\n",
            "Collecting access>=1.1.8\n",
            "  Downloading access-1.1.8-py3-none-any.whl (21 kB)\n",
            "Collecting spopt>=0.5.0\n",
            "  Downloading spopt-0.5.0-py3-none-any.whl (112 kB)\n",
            "\u001b[2K     \u001b[90m━━━━━━━━━━━━━━━━━━━━━━━━━━━━━━━━━━━━━━━\u001b[0m \u001b[32m112.9/112.9 KB\u001b[0m \u001b[31m6.9 MB/s\u001b[0m eta \u001b[36m0:00:00\u001b[0m\n",
            "\u001b[?25hCollecting splot>=1.1.5.post1\n",
            "  Downloading splot-1.1.5.post1-py3-none-any.whl (39 kB)\n",
            "Collecting esda>=2.4.1\n",
            "  Downloading esda-2.4.3.tar.gz (116 kB)\n",
            "\u001b[2K     \u001b[90m━━━━━━━━━━━━━━━━━━━━━━━━━━━━━━━━━━━━━━\u001b[0m \u001b[32m116.6/116.6 KB\u001b[0m \u001b[31m12.8 MB/s\u001b[0m eta \u001b[36m0:00:00\u001b[0m\n",
            "\u001b[?25h  Preparing metadata (setup.py) ... \u001b[?25l\u001b[?25hdone\n",
            "Collecting spvcm>=0.3.0\n",
            "  Downloading spvcm-0.3.0.tar.gz (5.7 MB)\n",
            "\u001b[2K     \u001b[90m━━━━━━━━━━━━━━━━━━━━━━━━━━━━━━━━━━━━━━━━\u001b[0m \u001b[32m5.7/5.7 MB\u001b[0m \u001b[31m57.4 MB/s\u001b[0m eta \u001b[36m0:00:00\u001b[0m\n",
            "\u001b[?25h  Preparing metadata (setup.py) ... \u001b[?25l\u001b[?25hdone\n",
            "Collecting inequality>=1.0.0\n",
            "  Downloading inequality-1.0.0.tar.gz (11 kB)\n",
            "  Preparing metadata (setup.py) ... \u001b[?25l\u001b[?25hdone\n",
            "Collecting segregation>=2.3.1\n",
            "  Downloading segregation-2.3.1-py3-none-any.whl (147 kB)\n",
            "\u001b[2K     \u001b[90m━━━━━━━━━━━━━━━━━━━━━━━━━━━━━━━━━━━━━━\u001b[0m \u001b[32m147.5/147.5 KB\u001b[0m \u001b[31m17.3 MB/s\u001b[0m eta \u001b[36m0:00:00\u001b[0m\n",
            "\u001b[?25hCollecting spaghetti>=1.7.2\n",
            "  Downloading spaghetti-1.7.2-py3-none-any.whl (50 kB)\n",
            "\u001b[2K     \u001b[90m━━━━━━━━━━━━━━━━━━━━━━━━━━━━━━━━━━━━━━━━\u001b[0m \u001b[32m50.3/50.3 KB\u001b[0m \u001b[31m5.8 MB/s\u001b[0m eta \u001b[36m0:00:00\u001b[0m\n",
            "\u001b[?25hCollecting tobler>=0.8.2\n",
            "  Downloading tobler-0.9.0-py3-none-any.whl (22 kB)\n",
            "Collecting mapclassify>=2.5.0\n",
            "  Downloading mapclassify-2.5.0-py3-none-any.whl (39 kB)\n",
            "Collecting spint>=1.0.7\n",
            "  Downloading spint-1.0.7.tar.gz (28 kB)\n",
            "  Preparing metadata (setup.py) ... \u001b[?25l\u001b[?25hdone\n",
            "Collecting spreg>=1.3.0\n",
            "  Downloading spreg-1.3.0-py3-none-any.whl (220 kB)\n",
            "\u001b[2K     \u001b[90m━━━━━━━━━━━━━━━━━━━━━━━━━━━━━━━━━━━━━━\u001b[0m \u001b[32m220.1/220.1 KB\u001b[0m \u001b[31m23.2 MB/s\u001b[0m eta \u001b[36m0:00:00\u001b[0m\n",
            "\u001b[?25hCollecting giddy>=2.3.3\n",
            "  Downloading giddy-2.3.4-py3-none-any.whl (61 kB)\n",
            "\u001b[2K     \u001b[90m━━━━━━━━━━━━━━━━━━━━━━━━━━━━━━━━━━━━━━━━\u001b[0m \u001b[32m61.1/61.1 KB\u001b[0m \u001b[31m7.4 MB/s\u001b[0m eta \u001b[36m0:00:00\u001b[0m\n",
            "\u001b[?25hCollecting momepy>=0.5.4\n",
            "  Downloading momepy-0.5.4-py3-none-any.whl (243 kB)\n",
            "\u001b[2K     \u001b[90m━━━━━━━━━━━━━━━━━━━━━━━━━━━━━━━━━━━━━━\u001b[0m \u001b[32m243.7/243.7 KB\u001b[0m \u001b[31m25.3 MB/s\u001b[0m eta \u001b[36m0:00:00\u001b[0m\n",
            "\u001b[?25hCollecting pointpats>=2.2.0\n",
            "  Downloading pointpats-2.3.0-py3-none-any.whl (59 kB)\n",
            "\u001b[2K     \u001b[90m━━━━━━━━━━━━━━━━━━━━━━━━━━━━━━━━━━━━━━━━\u001b[0m \u001b[32m59.2/59.2 KB\u001b[0m \u001b[31m7.2 MB/s\u001b[0m eta \u001b[36m0:00:00\u001b[0m\n",
            "\u001b[?25hCollecting mgwr>=2.1.2\n",
            "  Downloading mgwr-2.1.2.tar.gz (41 kB)\n",
            "\u001b[2K     \u001b[90m━━━━━━━━━━━━━━━━━━━━━━━━━━━━━━━━━━━━━━━━\u001b[0m \u001b[32m41.8/41.8 KB\u001b[0m \u001b[31m5.1 MB/s\u001b[0m eta \u001b[36m0:00:00\u001b[0m\n",
            "\u001b[?25h  Preparing metadata (setup.py) ... \u001b[?25l\u001b[?25hdone\n",
            "Collecting libpysal>=4.7.0\n",
            "  Downloading libpysal-4.7.0-py3-none-any.whl (2.4 MB)\n",
            "\u001b[2K     \u001b[90m━━━━━━━━━━━━━━━━━━━━━━━━━━━━━━━━━━━━━━━━\u001b[0m \u001b[32m2.4/2.4 MB\u001b[0m \u001b[31m76.9 MB/s\u001b[0m eta \u001b[36m0:00:00\u001b[0m\n",
            "\u001b[?25hRequirement already satisfied: pandas>=0.23.4 in /usr/local/lib/python3.9/dist-packages (from access>=1.1.8->pysal) (1.4.4)\n",
            "Requirement already satisfied: numpy>=1.3 in /usr/local/lib/python3.9/dist-packages (from access>=1.1.8->pysal) (1.22.4)\n",
            "Requirement already satisfied: requests>=2 in /usr/local/lib/python3.9/dist-packages (from access>=1.1.8->pysal) (2.27.1)\n",
            "Requirement already satisfied: geopandas in /usr/local/lib/python3.9/dist-packages (from access>=1.1.8->pysal) (0.12.2)\n",
            "Requirement already satisfied: scipy>=0.11 in /usr/local/lib/python3.9/dist-packages (from esda>=2.4.1->pysal) (1.10.1)\n",
            "Requirement already satisfied: scikit-learn in /usr/local/lib/python3.9/dist-packages (from esda>=2.4.1->pysal) (1.2.2)\n",
            "Collecting quantecon>=0.4.7\n",
            "  Downloading quantecon-0.6.0-py3-none-any.whl (206 kB)\n",
            "\u001b[2K     \u001b[90m━━━━━━━━━━━━━━━━━━━━━━━━━━━━━━━━━━━━━━\u001b[0m \u001b[32m206.9/206.9 KB\u001b[0m \u001b[31m19.7 MB/s\u001b[0m eta \u001b[36m0:00:00\u001b[0m\n",
            "\u001b[?25hRequirement already satisfied: packaging in /usr/local/lib/python3.9/dist-packages (from libpysal>=4.7.0->pysal) (23.0)\n",
            "Requirement already satisfied: platformdirs in /usr/local/lib/python3.9/dist-packages (from libpysal>=4.7.0->pysal) (3.1.1)\n",
            "Requirement already satisfied: beautifulsoup4 in /usr/local/lib/python3.9/dist-packages (from libpysal>=4.7.0->pysal) (4.11.2)\n",
            "Requirement already satisfied: jinja2 in /usr/local/lib/python3.9/dist-packages (from libpysal>=4.7.0->pysal) (3.1.2)\n",
            "Requirement already satisfied: networkx in /usr/local/lib/python3.9/dist-packages (from mapclassify>=2.5.0->pysal) (3.0)\n",
            "Requirement already satisfied: tqdm>=4.27.0 in /usr/local/lib/python3.9/dist-packages (from momepy>=0.5.4->pysal) (4.65.0)\n",
            "Collecting pygeos\n",
            "  Downloading pygeos-0.14-cp39-cp39-manylinux_2_17_x86_64.manylinux2014_x86_64.whl (2.2 MB)\n",
            "\u001b[2K     \u001b[90m━━━━━━━━━━━━━━━━━━━━━━━━━━━━━━━━━━━━━━━━\u001b[0m \u001b[32m2.2/2.2 MB\u001b[0m \u001b[31m55.4 MB/s\u001b[0m eta \u001b[36m0:00:00\u001b[0m\n",
            "\u001b[?25hRequirement already satisfied: matplotlib in /usr/local/lib/python3.9/dist-packages (from pointpats>=2.2.0->pysal) (3.7.1)\n",
            "Collecting deprecation\n",
            "  Downloading deprecation-2.1.0-py2.py3-none-any.whl (11 kB)\n",
            "Requirement already satisfied: joblib in /usr/local/lib/python3.9/dist-packages (from segregation>=2.3.1->pysal) (1.1.1)\n",
            "Requirement already satisfied: pip in /usr/local/lib/python3.9/dist-packages (from segregation>=2.3.1->pysal) (22.0.4)\n",
            "Collecting quilt3\n",
            "  Downloading quilt3-5.1.1-py3-none-any.whl (79 kB)\n",
            "\u001b[2K     \u001b[90m━━━━━━━━━━━━━━━━━━━━━━━━━━━━━━━━━━━━━━━━\u001b[0m \u001b[32m79.0/79.0 KB\u001b[0m \u001b[31m8.4 MB/s\u001b[0m eta \u001b[36m0:00:00\u001b[0m\n",
            "\u001b[?25hRequirement already satisfied: seaborn in /usr/local/lib/python3.9/dist-packages (from segregation>=2.3.1->pysal) (0.12.2)\n",
            "Collecting rvlib>=0.0.5\n",
            "  Downloading rvlib-0.0.6.tar.gz (183 kB)\n",
            "\u001b[2K     \u001b[90m━━━━━━━━━━━━━━━━━━━━━━━━━━━━━━━━━━━━━━\u001b[0m \u001b[32m183.2/183.2 KB\u001b[0m \u001b[31m18.1 MB/s\u001b[0m eta \u001b[36m0:00:00\u001b[0m\n",
            "\u001b[?25h  Preparing metadata (setup.py) ... \u001b[?25l\u001b[?25hdone\n",
            "Requirement already satisfied: pyproj>=3 in /usr/local/lib/python3.9/dist-packages (from segregation>=2.3.1->pysal) (3.4.1)\n",
            "Requirement already satisfied: numba in /usr/local/lib/python3.9/dist-packages (from segregation>=2.3.1->pysal) (0.56.4)\n",
            "Collecting rtree\n",
            "  Downloading Rtree-1.0.1-cp39-cp39-manylinux_2_17_x86_64.manylinux2014_x86_64.whl (1.0 MB)\n",
            "\u001b[2K     \u001b[90m━━━━━━━━━━━━━━━━━━━━━━━━━━━━━━━━━━━━━━━━\u001b[0m \u001b[32m1.0/1.0 MB\u001b[0m \u001b[31m49.1 MB/s\u001b[0m eta \u001b[36m0:00:00\u001b[0m\n",
            "\u001b[?25hCollecting pulp\n",
            "  Downloading PuLP-2.7.0-py3-none-any.whl (14.3 MB)\n",
            "\u001b[2K     \u001b[90m━━━━━━━━━━━━━━━━━━━━━━━━━━━━━━━━━━━━━━━━\u001b[0m \u001b[32m14.3/14.3 MB\u001b[0m \u001b[31m45.8 MB/s\u001b[0m eta \u001b[36m0:00:00\u001b[0m\n",
            "\u001b[?25hCollecting rasterstats\n",
            "  Downloading rasterstats-0.18.0-py3-none-any.whl (17 kB)\n",
            "Collecting rasterio\n",
            "  Downloading rasterio-1.3.6-cp39-cp39-manylinux_2_17_x86_64.manylinux2014_x86_64.whl (20.1 MB)\n",
            "\u001b[2K     \u001b[90m━━━━━━━━━━━━━━━━━━━━━━━━━━━━━━━━━━━━━━━━\u001b[0m \u001b[32m20.1/20.1 MB\u001b[0m \u001b[31m63.3 MB/s\u001b[0m eta \u001b[36m0:00:00\u001b[0m\n",
            "\u001b[?25hRequirement already satisfied: statsmodels in /usr/local/lib/python3.9/dist-packages (from tobler>=0.8.2->pysal) (0.13.5)\n",
            "Requirement already satisfied: shapely>=1.7 in /usr/local/lib/python3.9/dist-packages (from geopandas->access>=1.1.8->pysal) (2.0.1)\n",
            "Requirement already satisfied: fiona>=1.8 in /usr/local/lib/python3.9/dist-packages (from geopandas->access>=1.1.8->pysal) (1.9.2)\n",
            "Requirement already satisfied: pytz>=2020.1 in /usr/local/lib/python3.9/dist-packages (from pandas>=0.23.4->access>=1.1.8->pysal) (2022.7.1)\n",
            "Requirement already satisfied: python-dateutil>=2.8.1 in /usr/local/lib/python3.9/dist-packages (from pandas>=0.23.4->access>=1.1.8->pysal) (2.8.2)\n",
            "Requirement already satisfied: certifi in /usr/local/lib/python3.9/dist-packages (from pyproj>=3->segregation>=2.3.1->pysal) (2022.12.7)\n",
            "Requirement already satisfied: sympy in /usr/local/lib/python3.9/dist-packages (from quantecon>=0.4.7->giddy>=2.3.3->pysal) (1.11.1)\n",
            "Requirement already satisfied: idna<4,>=2.5 in /usr/local/lib/python3.9/dist-packages (from requests>=2->access>=1.1.8->pysal) (3.4)\n",
            "Requirement already satisfied: charset-normalizer~=2.0.0 in /usr/local/lib/python3.9/dist-packages (from requests>=2->access>=1.1.8->pysal) (2.0.12)\n",
            "Requirement already satisfied: urllib3<1.27,>=1.21.1 in /usr/local/lib/python3.9/dist-packages (from requests>=2->access>=1.1.8->pysal) (1.26.15)\n",
            "Requirement already satisfied: cffi>=1.0.0 in /usr/local/lib/python3.9/dist-packages (from rvlib>=0.0.5->segregation>=2.3.1->pysal) (1.15.1)\n",
            "Requirement already satisfied: PyYAML in /usr/local/lib/python3.9/dist-packages (from rvlib>=0.0.5->segregation>=2.3.1->pysal) (6.0)\n",
            "Requirement already satisfied: setuptools in /usr/local/lib/python3.9/dist-packages (from numba->segregation>=2.3.1->pysal) (67.6.0)\n",
            "Requirement already satisfied: llvmlite<0.40,>=0.39.0dev0 in /usr/local/lib/python3.9/dist-packages (from numba->segregation>=2.3.1->pysal) (0.39.1)\n",
            "Requirement already satisfied: threadpoolctl>=2.0.0 in /usr/local/lib/python3.9/dist-packages (from scikit-learn->esda>=2.4.1->pysal) (3.1.0)\n",
            "Requirement already satisfied: soupsieve>1.2 in /usr/local/lib/python3.9/dist-packages (from beautifulsoup4->libpysal>=4.7.0->pysal) (2.4)\n",
            "Requirement already satisfied: MarkupSafe>=2.0 in /usr/local/lib/python3.9/dist-packages (from jinja2->libpysal>=4.7.0->pysal) (2.1.2)\n",
            "Requirement already satisfied: cycler>=0.10 in /usr/local/lib/python3.9/dist-packages (from matplotlib->pointpats>=2.2.0->pysal) (0.11.0)\n",
            "Requirement already satisfied: kiwisolver>=1.0.1 in /usr/local/lib/python3.9/dist-packages (from matplotlib->pointpats>=2.2.0->pysal) (1.4.4)\n",
            "Requirement already satisfied: pillow>=6.2.0 in /usr/local/lib/python3.9/dist-packages (from matplotlib->pointpats>=2.2.0->pysal) (8.4.0)\n",
            "Requirement already satisfied: importlib-resources>=3.2.0 in /usr/local/lib/python3.9/dist-packages (from matplotlib->pointpats>=2.2.0->pysal) (5.12.0)\n",
            "Requirement already satisfied: pyparsing>=2.3.1 in /usr/local/lib/python3.9/dist-packages (from matplotlib->pointpats>=2.2.0->pysal) (3.0.9)\n",
            "Requirement already satisfied: fonttools>=4.22.0 in /usr/local/lib/python3.9/dist-packages (from matplotlib->pointpats>=2.2.0->pysal) (4.39.2)\n",
            "Requirement already satisfied: contourpy>=1.0.1 in /usr/local/lib/python3.9/dist-packages (from matplotlib->pointpats>=2.2.0->pysal) (1.0.7)\n",
            "Requirement already satisfied: jsonschema<5,>=3 in /usr/local/lib/python3.9/dist-packages (from quilt3->segregation>=2.3.1->pysal) (4.3.3)\n",
            "Requirement already satisfied: tenacity>=5.1.1 in /usr/local/lib/python3.9/dist-packages (from quilt3->segregation>=2.3.1->pysal) (8.2.2)\n",
            "Collecting requests-futures==1.0.0\n",
            "  Downloading requests_futures-1.0.0-py2.py3-none-any.whl (7.4 kB)\n",
            "Collecting aws-requests-auth>=0.4.2\n",
            "  Downloading aws_requests_auth-0.4.3-py2.py3-none-any.whl (6.8 kB)\n",
            "Collecting jsonlines==1.2.0\n",
            "  Downloading jsonlines-1.2.0-py2.py3-none-any.whl (7.6 kB)\n",
            "Collecting boto3>=1.10.0\n",
            "  Downloading boto3-1.26.96-py3-none-any.whl (135 kB)\n",
            "\u001b[2K     \u001b[90m━━━━━━━━━━━━━━━━━━━━━━━━━━━━━━━━━━━━━\u001b[0m \u001b[32m135.5/135.5 KB\u001b[0m \u001b[31m719.0 kB/s\u001b[0m eta \u001b[36m0:00:00\u001b[0m\n",
            "\u001b[?25hRequirement already satisfied: six in /usr/local/lib/python3.9/dist-packages (from jsonlines==1.2.0->quilt3->segregation>=2.3.1->pysal) (1.16.0)\n",
            "Requirement already satisfied: cligj>=0.5 in /usr/local/lib/python3.9/dist-packages (from rasterio->tobler>=0.8.2->pysal) (0.7.2)\n",
            "Requirement already satisfied: attrs in /usr/local/lib/python3.9/dist-packages (from rasterio->tobler>=0.8.2->pysal) (22.2.0)\n",
            "Collecting affine\n",
            "  Downloading affine-2.4.0-py3-none-any.whl (15 kB)\n",
            "Requirement already satisfied: click-plugins in /usr/local/lib/python3.9/dist-packages (from rasterio->tobler>=0.8.2->pysal) (1.1.1)\n",
            "Requirement already satisfied: click>=4.0 in /usr/local/lib/python3.9/dist-packages (from rasterio->tobler>=0.8.2->pysal) (8.1.3)\n",
            "Collecting snuggs>=1.4.1\n",
            "  Downloading snuggs-1.4.7-py3-none-any.whl (5.4 kB)\n",
            "Collecting simplejson\n",
            "  Downloading simplejson-3.18.4-cp39-cp39-manylinux_2_5_x86_64.manylinux1_x86_64.manylinux_2_17_x86_64.manylinux2014_x86_64.whl (136 kB)\n",
            "\u001b[2K     \u001b[90m━━━━━━━━━━━━━━━━━━━━━━━━━━━━━━━━━━━━━━\u001b[0m \u001b[32m136.8/136.8 KB\u001b[0m \u001b[31m13.2 MB/s\u001b[0m eta \u001b[36m0:00:00\u001b[0m\n",
            "\u001b[?25hCollecting fiona>=1.8\n",
            "  Downloading Fiona-1.8.22-cp39-cp39-manylinux_2_17_x86_64.manylinux2014_x86_64.whl (16.6 MB)\n",
            "\u001b[2K     \u001b[90m━━━━━━━━━━━━━━━━━━━━━━━━━━━━━━━━━━━━━━━━\u001b[0m \u001b[32m16.6/16.6 MB\u001b[0m \u001b[31m69.9 MB/s\u001b[0m eta \u001b[36m0:00:00\u001b[0m\n",
            "\u001b[?25hRequirement already satisfied: patsy>=0.5.2 in /usr/local/lib/python3.9/dist-packages (from statsmodels->tobler>=0.8.2->pysal) (0.5.3)\n",
            "Collecting jmespath<2.0.0,>=0.7.1\n",
            "  Downloading jmespath-1.0.1-py3-none-any.whl (20 kB)\n",
            "Collecting s3transfer<0.7.0,>=0.6.0\n",
            "  Downloading s3transfer-0.6.0-py3-none-any.whl (79 kB)\n",
            "\u001b[2K     \u001b[90m━━━━━━━━━━━━━━━━━━━━━━━━━━━━━━━━━━━━━━━━\u001b[0m \u001b[32m79.6/79.6 KB\u001b[0m \u001b[31m8.9 MB/s\u001b[0m eta \u001b[36m0:00:00\u001b[0m\n",
            "\u001b[?25hCollecting botocore<1.30.0,>=1.29.96\n",
            "  Downloading botocore-1.29.96-py3-none-any.whl (10.5 MB)\n",
            "\u001b[2K     \u001b[90m━━━━━━━━━━━━━━━━━━━━━━━━━━━━━━━━━━━━━━━━\u001b[0m \u001b[32m10.5/10.5 MB\u001b[0m \u001b[31m94.4 MB/s\u001b[0m eta \u001b[36m0:00:00\u001b[0m\n",
            "\u001b[?25hRequirement already satisfied: pycparser in /usr/local/lib/python3.9/dist-packages (from cffi>=1.0.0->rvlib>=0.0.5->segregation>=2.3.1->pysal) (2.21)\n",
            "Requirement already satisfied: munch in /usr/local/lib/python3.9/dist-packages (from fiona>=1.8->geopandas->access>=1.1.8->pysal) (2.5.0)\n",
            "Requirement already satisfied: zipp>=3.1.0 in /usr/local/lib/python3.9/dist-packages (from importlib-resources>=3.2.0->matplotlib->pointpats>=2.2.0->pysal) (3.15.0)\n",
            "Requirement already satisfied: pyrsistent!=0.17.0,!=0.17.1,!=0.17.2,>=0.14.0 in /usr/local/lib/python3.9/dist-packages (from jsonschema<5,>=3->quilt3->segregation>=2.3.1->pysal) (0.19.3)\n",
            "Requirement already satisfied: mpmath>=0.19 in /usr/local/lib/python3.9/dist-packages (from sympy->quantecon>=0.4.7->giddy>=2.3.3->pysal) (1.3.0)\n",
            "Building wheels for collected packages: esda, inequality, mgwr, spglm, spint, spvcm, rvlib\n",
            "  Building wheel for esda (setup.py) ... \u001b[?25l\u001b[?25hdone\n",
            "  Created wheel for esda: filename=esda-2.4.3-py3-none-any.whl size=122782 sha256=a16dc3a0495c9299296da389c6fb64ca175291b5839704ed43b4226cf469ddae\n",
            "  Stored in directory: /root/.cache/pip/wheels/92/4b/14/df69615cd54ad1ce64b70d141dee8b269ebc7ace679cef9f3f\n",
            "  Building wheel for inequality (setup.py) ... \u001b[?25l\u001b[?25hdone\n",
            "  Created wheel for inequality: filename=inequality-1.0.0-py3-none-any.whl size=11797 sha256=9ba835f2b590426b1b61478a55c88fecfae1d1bff78ff6cee46df5a6fafb06eb\n",
            "  Stored in directory: /root/.cache/pip/wheels/80/71/07/4d4c8ecaba710bd79e91014602e70fc4d008328c99d524db40\n",
            "  Building wheel for mgwr (setup.py) ... \u001b[?25l\u001b[?25hdone\n",
            "  Created wheel for mgwr: filename=mgwr-2.1.2-py3-none-any.whl size=46384 sha256=0d96b75e7fd51a9457fdc469b8e42ad4f43a273fa4ba480398252398eca0ad46\n",
            "  Stored in directory: /root/.cache/pip/wheels/7f/03/f3/6d95ff5d1911ba9e13f98d96dab2afb10969270ee75ab82bc8\n",
            "  Building wheel for spglm (setup.py) ... \u001b[?25l\u001b[?25hdone\n",
            "  Created wheel for spglm: filename=spglm-1.0.8-py3-none-any.whl size=38805 sha256=896a3d887b6892a8c9728c27efb355a7188ed773ff84dc5f60351793f90e0cf1\n",
            "  Stored in directory: /root/.cache/pip/wheels/c2/b8/7e/709d2af4286d94d611711d81727d40149e7467ca9a43c5e30c\n",
            "  Building wheel for spint (setup.py) ... \u001b[?25l\u001b[?25hdone\n",
            "  Created wheel for spint: filename=spint-1.0.7-py3-none-any.whl size=31380 sha256=23680c3b1a9f3f974cca2d0b669eaca72d40649cad776407802fe85fa2cc2940\n",
            "  Stored in directory: /root/.cache/pip/wheels/93/a7/ea/0e65be5d06cd2860a4c2ea99656ead582f96aa3954652b6ad7\n",
            "  Building wheel for spvcm (setup.py) ... \u001b[?25l\u001b[?25hdone\n",
            "  Created wheel for spvcm: filename=spvcm-0.3.0-py3-none-any.whl size=5777200 sha256=8fe8a3aa2fb90f01a80683850398f5a4369888001363563e0ad713c65841ab33\n",
            "  Stored in directory: /root/.cache/pip/wheels/73/d0/2c/ef650f39e25225566643b2839ebfe7a2d4adc5d777dc8d7d73\n",
            "  Building wheel for rvlib (setup.py) ... \u001b[?25l\u001b[?25hdone\n",
            "  Created wheel for rvlib: filename=rvlib-0.0.6-cp39-cp39-linux_x86_64.whl size=409924 sha256=79a7dd474b9945e1d80e9da6458d596f9315c9aebf6d6523d937a4748d1b060a\n",
            "  Stored in directory: /root/.cache/pip/wheels/29/f3/69/6ce5aa63741790d5de2a371141f5939150fb1f231d05028b10\n",
            "Successfully built esda inequality mgwr spglm spint spvcm rvlib\n",
            "Installing collected packages: pulp, snuggs, simplejson, rtree, pygeos, jsonlines, jmespath, deprecation, affine, rvlib, requests-futures, rasterio, quantecon, inequality, fiona, botocore, aws-requests-auth, s3transfer, rasterstats, mapclassify, libpysal, tobler, spreg, pointpats, momepy, esda, boto3, access, spvcm, spglm, spaghetti, quilt3, giddy, spopt, splot, spint, segregation, mgwr, pysal\n",
            "  Attempting uninstall: fiona\n",
            "    Found existing installation: Fiona 1.9.2\n",
            "    Uninstalling Fiona-1.9.2:\n",
            "      Successfully uninstalled Fiona-1.9.2\n",
            "Successfully installed access-1.1.8 affine-2.4.0 aws-requests-auth-0.4.3 boto3-1.26.96 botocore-1.29.96 deprecation-2.1.0 esda-2.4.3 fiona-1.8.22 giddy-2.3.4 inequality-1.0.0 jmespath-1.0.1 jsonlines-1.2.0 libpysal-4.7.0 mapclassify-2.5.0 mgwr-2.1.2 momepy-0.5.4 pointpats-2.3.0 pulp-2.7.0 pygeos-0.14 pysal-23.1 quantecon-0.6.0 quilt3-5.1.1 rasterio-1.3.6 rasterstats-0.18.0 requests-futures-1.0.0 rtree-1.0.1 rvlib-0.0.6 s3transfer-0.6.0 segregation-2.3.1 simplejson-3.18.4 snuggs-1.4.7 spaghetti-1.7.2 spglm-1.0.8 spint-1.0.7 splot-1.1.5.post1 spopt-0.5.0 spreg-1.3.0 spvcm-0.3.0 tobler-0.9.0\n"
          ]
        }
      ]
    },
    {
      "cell_type": "code",
      "source": [
        "import geopandas as gpd\n",
        "from pysal.lib import weights\n",
        "from pysal.explore import esda"
      ],
      "metadata": {
        "id": "5G3EMQNrCZqC",
        "colab": {
          "base_uri": "https://localhost:8080/"
        },
        "outputId": "ce0e4629-8d16-4b38-be6d-2b44ccdd69a2"
      },
      "execution_count": 4,
      "outputs": [
        {
          "output_type": "stream",
          "name": "stderr",
          "text": [
            "/usr/local/lib/python3.9/dist-packages/geopandas/_compat.py:123: UserWarning: The Shapely GEOS version (3.11.1-CAPI-1.17.1) is incompatible with the GEOS version PyGEOS was compiled with (3.10.4-CAPI-1.16.2). Conversions between both will be slow.\n",
            "  warnings.warn(\n",
            "<ipython-input-4-8a9e825d8102>:1: UserWarning: Shapely 2.0 is installed, but because PyGEOS is also installed, GeoPandas will still use PyGEOS by default for now. To force to use and test Shapely 2.0, you have to set the environment variable USE_PYGEOS=0. You can do this before starting the Python process, or in your code before importing geopandas:\n",
            "\n",
            "import os\n",
            "os.environ['USE_PYGEOS'] = '0'\n",
            "import geopandas\n",
            "\n",
            "In a future release, GeoPandas will switch to using Shapely by default. If you are using PyGEOS directly (calling PyGEOS functions on geometries from GeoPandas), this will then stop working and you are encouraged to migrate from PyGEOS to Shapely 2.0 (https://shapely.readthedocs.io/en/latest/migration_pygeos.html).\n",
            "  import geopandas as gpd\n",
            "/usr/local/lib/python3.9/dist-packages/spaghetti/network.py:39: FutureWarning: The next major release of pysal/spaghetti (2.0.0) will drop support for all ``libpysal.cg`` geometries. This change is a first step in refactoring ``spaghetti`` that is expected to result in dramatically reduced runtimes for network instantiation and operations. Users currently requiring network and point pattern input as ``libpysal.cg`` geometries should prepare for this simply by converting to ``shapely`` geometries.\n",
            "  warnings.warn(f\"{dep_msg}\", FutureWarning)\n"
          ]
        }
      ]
    },
    {
      "cell_type": "code",
      "source": [
        "households = [Point(i, 1.1*i) for i in range(10)]\n",
        "households += [Point(i, 15-0.8*i) for i in range(10)]\n",
        "households += [Point(9+i, 15-0.8*9) for i in range(10)]\n",
        "households += [Point(9+i, 15-0.8*9) for i in range(10)]\n",
        "\n",
        "parks = [ box(5, 12, 10, 14) ,box(1, 2.1, 1.8, 3.5),  box(6, 8, 8, 8.5), box(15, 3, 18, 6) ]\n",
        "grocery =  [Point(18,2), Point(6,3),Point(0.5,14)]\n",
        "\n",
        "p = np.array([28.45,35.03,15.03,12.39,5.83,2.03,1.24])/100\n",
        "p[-1] += 1 - np.sum(p) \n",
        "household_size = rng.choice(np.linspace(1,7,7),size=len(households),p=p)\n",
        "\n",
        "house_df = gpd.GeoDataFrame({'hh_size':household_size, 'geometry': households})\n",
        "house_df['dist_park'] = house_df.distance(union_all(parks))\n",
        "house_df['dist_grocery'] = house_df.distance(union_all(grocery))\n",
        "house_df['satisfied_index'] =  1/(1+house_df['dist_park']) + 1/(1+house_df['dist_grocery'])"
      ],
      "metadata": {
        "id": "-WOuo6ghOtIh"
      },
      "execution_count": 5,
      "outputs": []
    },
    {
      "cell_type": "markdown",
      "source": [
        "CODE BLOCK 1 "
      ],
      "metadata": {
        "id": "Dkp-aVUTw3v1"
      }
    },
    {
      "cell_type": "code",
      "source": [],
      "metadata": {
        "id": "WZOqQvBTw8nQ"
      },
      "execution_count": 5,
      "outputs": []
    },
    {
      "cell_type": "markdown",
      "source": [
        "Existing code *Spatial Join*"
      ],
      "metadata": {
        "id": "CCARmR1Dw9hF"
      }
    },
    {
      "cell_type": "code",
      "source": [
        "hh_locs = np.vstack([[hh.x for hh in households], [hh.y for hh in households]])\n",
        "H, yedges, xedges = np.histogram2d(hh_locs[1], hh_locs[0])\n",
        "xs, ys, = np.meshgrid(xedges,yedges)\n",
        "\n",
        "x_step = xedges[1]-xedges[0]\n",
        "y_step = yedges[1]-yedges[0]\n",
        "\n",
        "grid_points = [Point( [x,y])  for x,y in  zip(xs.flatten() , ys.flatten())]\n",
        "grid_boxes = gpd.GeoSeries([ box(pt.x, pt.y, pt.x+x_step, pt.y+y_step) for pt in grid_points])\n",
        "grid_df = gpd.GeoDataFrame({'geometry': grid_boxes })\n",
        "\n",
        "merged = house_df.sjoin(grid_df, how=\"left\",predicate=\"within\")\n",
        "merged['hh'] =1\n",
        "grid_df.loc[:,['hh','satisfied_index','hh_size']] = np.nan\n",
        "hh_dissolved_by_grid = merged.dissolve(by=\"index_right\",\n",
        "                                           aggfunc={\n",
        "                                               \"hh\":\"sum\",\n",
        "                                               \"satisfied_index\":\"median\",\n",
        "                                               \"hh_size\":\"mean\"\n",
        "                                           })\n",
        "# aggregate all of the hits with the same index_right\n",
        "grid_df.loc[hh_dissolved_by_grid.index, ['hh',\"satisfied_index\",'hh_size']] = hh_dissolved_by_grid[['hh',\"satisfied_index\",'hh_size']]\n",
        "grid_df['pop'] = grid_df['hh_size']*grid_df['hh']\n",
        "tv = pd.notna(grid_df[\"hh\"])\n",
        "grid_df = grid_df.drop(grid_df.index[tv==False],axis='index')\n"
      ],
      "metadata": {
        "id": "y3kIqIx_UciG"
      },
      "execution_count": 6,
      "outputs": []
    },
    {
      "cell_type": "markdown",
      "source": [
        "CODE BLOCK **2**"
      ],
      "metadata": {
        "id": "B4ktbKUC2UnL"
      }
    },
    {
      "cell_type": "code",
      "source": [],
      "metadata": {
        "id": "hZOYV8572USy"
      },
      "execution_count": 6,
      "outputs": []
    },
    {
      "cell_type": "markdown",
      "source": [
        "Existing code * Spatial correlation analysis*"
      ],
      "metadata": {
        "id": "OhFY3JSJxQZQ"
      }
    },
    {
      "cell_type": "code",
      "source": [
        "w = weights.distance.KNN.from_dataframe(grid_df, k=4)\n",
        "w.transform = \"R\"\n",
        "grid_df[[\"satisfied_index_lag\",\"pop_lag\"]] = weights.spatial_lag.lag_spatial(w,grid_df[[\"satisfied_index\",\"pop\"]])\n",
        "\n",
        "w.transform = \"R\"\n",
        "moran = esda.moran.Moran(grid_df[\"satisfied_index\"], w)\n",
        "print(\"{} with p-val={}\".format(moran.I,moran.p_sim))\n",
        "\n",
        "moran = esda.moran.Moran(grid_df[\"pop\"], w)\n",
        "print(\"{} with p-val={}\".format(moran.I,moran.p_sim))"
      ],
      "metadata": {
        "id": "agSgPv-Xfsze",
        "colab": {
          "base_uri": "https://localhost:8080/"
        },
        "outputId": "c8e9b3e6-7e06-4748-d434-25e51b062d0b"
      },
      "execution_count": 7,
      "outputs": [
        {
          "output_type": "stream",
          "name": "stdout",
          "text": [
            "0.18035642868135984 with p-val=0.065\n",
            "0.3441358024691358 with p-val=0.003\n"
          ]
        }
      ]
    },
    {
      "cell_type": "code",
      "source": [
        "axs = [0,0]\n",
        "f,axs[0] = plt.subplots(1)\n",
        "limx,limX = grid_df[\"pop\"].min(), grid_df[\"pop\"].max()\n",
        "axs[0].plot([limx,limX],[limx,limX],color='red')\n",
        "axs[0].plot(grid_df[\"pop\"],grid_df[\"pop_lag\"],marker='o',linestyle='none')\n",
        "axs[0].set_title(\"Moran Plot - Population\")\n",
        "axs[0].axis(\"square\")\n",
        "\n",
        "\n",
        "f,axs[1] = plt.subplots(1)\n",
        "\n",
        "limx,limX = grid_df[\"satisfied_index\"].min(), grid_df[\"satisfied_index\"].max()\n",
        "axs[1].plot([limx,limX],[limx,limX],color='red')\n",
        "axs[1].plot(grid_df[\"satisfied_index\"],grid_df[\"satisfied_index_lag\"],marker='o',linestyle='none')\n",
        "axs[1].set_title(\"Moran Plot - Satisfaction Index\")\n",
        "axs[1].axis(\"square\")\n"
      ],
      "metadata": {
        "id": "fnvb34zsgcJf",
        "colab": {
          "base_uri": "https://localhost:8080/",
          "height": 614
        },
        "outputId": "16fe821d-b9b9-4558-88f3-e810ce0e4ad7"
      },
      "execution_count": 8,
      "outputs": [
        {
          "output_type": "execute_result",
          "data": {
            "text/plain": [
              "(0.3228778242728148,\n",
              " 1.0638968079434281,\n",
              " 0.3228778242728148,\n",
              " 1.0638968079434281)"
            ]
          },
          "metadata": {},
          "execution_count": 8
        },
        {
          "output_type": "display_data",
          "data": {
            "text/plain": [
              "<Figure size 432x288 with 1 Axes>"
            ],
            "image/png": "[encoded data removed]"
          },
          "metadata": {
            "needs_background": "light"
          }
        },
        {
          "output_type": "display_data",
          "data": {
            "text/plain": [
              "<Figure size 432x288 with 1 Axes>"
            ],
            "image/png": "[encoded data removed]"
          },
          "metadata": {
            "needs_background": "light"
          }
        }
      ]
    },
    {
      "cell_type": "markdown",
      "source": [
        "Existing code * New household data with same parks/grocery*"
      ],
      "metadata": {
        "id": "lsqy8kaqyl34"
      }
    },
    {
      "cell_type": "code",
      "source": [
        "hx = rng.uniform(xedges[0],xedges[-1],100)\n",
        "hy = rng.uniform(yedges[0],yedges[-1],100)\n",
        "households = [Point(x, y) for x,y in zip(hx,hy)]\n",
        "\n",
        "parks = [ box(5, 12, 10, 14) ,box(1, 2.1, 1.8, 3.5),  box(6, 8, 8, 8.5), box(15, 3, 18, 6) ]\n",
        "grocery =  [Point(18,2), Point(6,3),Point(0.5,14)]\n",
        "\n",
        "\n",
        "households = [hh.difference(union_all(parks)) for hh in households]\n",
        "households = [hh for hh in households if not hh.is_empty ]\n",
        "\n",
        "ax1 = gpd.GeoSeries(parks).plot(color='g')\n",
        "gpd.GeoSeries(households).plot(ax=ax1,color='m')\n",
        "gpd.GeoSeries(grocery).plot(ax=ax1,color='r',marker='x')\n",
        "\n",
        "p = np.array([28.45,35.03,15.03,12.39,5.83,2.03,1.24])/100\n",
        "p[-1] += 1 - np.sum(p) \n",
        "household_size = rng.choice(np.linspace(1,7,7),size=len(households),p=p)\n",
        "\n",
        "house_df = gpd.GeoDataFrame({'hh_size':household_size, 'geometry': households})\n",
        "house_df['dist_park'] = house_df.distance(union_all(parks))\n",
        "house_df['dist_grocery'] = house_df.distance(union_all(grocery))\n",
        "house_df['satisfied_index'] =  1/(1+house_df['dist_park']) + 1/(1+house_df['dist_grocery'])\n"
      ],
      "metadata": {
        "id": "btkgABdumZhg",
        "colab": {
          "base_uri": "https://localhost:8080/",
          "height": 265
        },
        "outputId": "8a2b5d5b-3a4a-4541-f10f-fe5c4f772dd0"
      },
      "execution_count": 17,
      "outputs": [
        {
          "output_type": "display_data",
          "data": {
            "text/plain": [
              "<Figure size 432x288 with 1 Axes>"
            ],
            "image/png": "[encoded data removed]"
          },
          "metadata": {
            "needs_background": "light"
          }
        }
      ]
    },
    {
      "cell_type": "code",
      "source": [
        "len(households)"
      ],
      "metadata": {
        "colab": {
          "base_uri": "https://localhost:8080/"
        },
        "id": "TIeh7DZ0sVET",
        "outputId": "1ba2663a-3805-4153-881a-7448bb4807fc"
      },
      "execution_count": 18,
      "outputs": [
        {
          "output_type": "execute_result",
          "data": {
            "text/plain": [
              "93"
            ]
          },
          "metadata": {},
          "execution_count": 18
        }
      ]
    },
    {
      "cell_type": "code",
      "source": [
        "households "
      ],
      "metadata": {
        "colab": {
          "base_uri": "https://localhost:8080/"
        },
        "id": "pI9MweAMsaF3",
        "outputId": "1935f251-b3fe-4b53-f934-c6b97bdd6915"
      },
      "execution_count": 16,
      "outputs": [
        {
          "output_type": "execute_result",
          "data": {
            "text/plain": [
              "[<POINT (8.629 10.211)>,\n",
              " <POINT (9.883 11.514)>,\n",
              " <POINT (5.281 1.193)>,\n",
              " <POINT (8.218 1.588)>,\n",
              " <POINT (0.823 12.83)>,\n",
              " <POINT (14.571 5.353)>,\n",
              " <POINT (16.335 8.526)>,\n",
              " <POINT (13.548 7.553)>,\n",
              " <POINT (8.921 9.4)>,\n",
              " <POINT (15.188 1.154)>,\n",
              " <POINT (0.069 11.547)>,\n",
              " <POINT (11.987 1.851)>,\n",
              " <POINT (13.813 10.221)>,\n",
              " <POINT (5.88 6.032)>,\n",
              " <POINT (15.418 7.384)>,\n",
              " <POINT (0.003 10.075)>,\n",
              " <POINT (11.378 5.565)>,\n",
              " <POINT (5.418 0.691)>,\n",
              " <POINT (11.315 14.463)>,\n",
              " <POINT (4.524 7.84)>,\n",
              " <POINT (3.776 11.132)>,\n",
              " <POINT (11.271 7.969)>,\n",
              " <POINT EMPTY>,\n",
              " <POINT (3.371 8.469)>,\n",
              " <POINT (15.951 1.841)>,\n",
              " <POINT (15.883 9.629)>,\n",
              " <POINT (9.892 2.591)>,\n",
              " <POINT (12.71 12.355)>,\n",
              " <POINT (8.125 10.216)>,\n",
              " <POINT (14.426 14.097)>,\n",
              " <POINT (15.009 9.436)>,\n",
              " <POINT (13.755 3.377)>,\n",
              " <POINT (4.377 8.357)>,\n",
              " <POINT (0.441 11.577)>,\n",
              " <POINT (11.849 10.678)>,\n",
              " <POINT (7.403 5.134)>,\n",
              " <POINT (16.097 9.83)>,\n",
              " <POINT (15.477 14.029)>,\n",
              " <POINT (9.608 10.272)>,\n",
              " <POINT (6.794 5.51)>,\n",
              " <POINT (12.834 13.661)>,\n",
              " <POINT (12.769 12.414)>,\n",
              " <POINT (12.281 12.828)>,\n",
              " <POINT (15.164 1.603)>,\n",
              " <POINT (10.392 4.362)>,\n",
              " <POINT (9.289 11.852)>,\n",
              " <POINT (9.304 4.122)>,\n",
              " <POINT (16.002 1.106)>,\n",
              " <POINT (6.602 10.249)>,\n",
              " <POINT (15.154 11.989)>,\n",
              " <POINT (9.088 9.627)>,\n",
              " <POINT (1.536 5.173)>,\n",
              " <POINT (8.082 8.397)>,\n",
              " <POINT (5.242 0.323)>,\n",
              " <POINT (9.502 8.44)>,\n",
              " <POINT (15.36 12.852)>,\n",
              " <POINT (3.23 1.171)>,\n",
              " <POINT (8.554 5.75)>,\n",
              " <POINT (10.485 2.473)>,\n",
              " <POINT (13.857 5.7)>,\n",
              " <POINT (16.938 0.195)>,\n",
              " <POINT EMPTY>,\n",
              " <POINT (16.589 7.444)>,\n",
              " <POINT (6.058 6.539)>,\n",
              " <POINT (13.758 9.027)>,\n",
              " <POINT (13.747 12.75)>,\n",
              " <POINT (9.923 4.369)>,\n",
              " <POINT (3.128 4.013)>,\n",
              " <POINT (6.952 0.742)>,\n",
              " <POINT (5.235 3.996)>,\n",
              " <POINT (17.404 0.993)>,\n",
              " <POINT (11.603 0.623)>,\n",
              " <POINT (16.363 8.291)>,\n",
              " <POINT (5.331 2.758)>,\n",
              " <POINT (7.721 1.114)>,\n",
              " <POINT (10.213 13.751)>,\n",
              " <POINT (6.385 2.231)>,\n",
              " <POINT (8.217 1.422)>,\n",
              " <POINT (10.788 14.56)>,\n",
              " <POINT (0.509 10.005)>,\n",
              " <POINT (6.117 10.886)>,\n",
              " <POINT (0.004 8.448)>,\n",
              " <POINT (8.686 1.056)>,\n",
              " <POINT (10.944 12.628)>,\n",
              " <POINT (1.674 6.27)>,\n",
              " <POINT (4.358 5.887)>,\n",
              " <POINT (14.472 2.03)>,\n",
              " <POINT (15.125 1.698)>,\n",
              " <POINT (6.979 7.834)>,\n",
              " <POINT (14.656 8.531)>,\n",
              " <POINT (4.989 7.78)>,\n",
              " <POINT (12.71 9.197)>,\n",
              " <POINT EMPTY>,\n",
              " <POINT (7.922 7.563)>,\n",
              " <POINT (11.816 5.687)>,\n",
              " <POINT (0.241 3.849)>,\n",
              " <POINT (2.924 4.603)>,\n",
              " <POINT (5.289 8.412)>,\n",
              " <POINT (12.25 11.931)>,\n",
              " <POINT (12.712 6.617)>]"
            ]
          },
          "metadata": {},
          "execution_count": 16
        }
      ]
    },
    {
      "cell_type": "markdown",
      "source": [
        "CODE BLOCK 3"
      ],
      "metadata": {
        "id": "R4xeE5iB1_8a"
      }
    },
    {
      "cell_type": "code",
      "source": [],
      "metadata": {
        "id": "oZ_0zAZc1_WG"
      },
      "execution_count": 9,
      "outputs": []
    }
  ]
}